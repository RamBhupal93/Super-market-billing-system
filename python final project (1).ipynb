{
 "cells": [
  {
   "cell_type": "code",
   "execution_count": 1,
   "metadata": {},
   "outputs": [
    {
     "name": "stdout",
     "output_type": "stream",
     "text": [
      "Requirement already satisfied: pymysql in c:\\users\\asus\\anaconda3\\lib\\site-packages (1.0.2)\n"
     ]
    }
   ],
   "source": [
    "# !pip install pymysql"
   ]
  },
  {
   "cell_type": "code",
   "execution_count": 1,
   "metadata": {},
   "outputs": [],
   "source": [
    "import pymysql\n",
    "import os\n",
    "from datetime import date"
   ]
  },
  {
   "cell_type": "code",
   "execution_count": 2,
   "metadata": {},
   "outputs": [],
   "source": [
    "host = os.getenv('MYSQL_HOST')\n",
    "port = os.getenv('MYSQL_PORT')\n",
    "user = os.getenv('MYSQL_USER')\n",
    "password = os.getenv('MYSQL_PASSWORD')\n",
    "database = os.getenv('MYSQL_DATABASE')"
   ]
  },
  {
   "cell_type": "code",
   "execution_count": 3,
   "metadata": {},
   "outputs": [],
   "source": [
    "conn = pymysql.connect(\n",
    "    host=host,\n",
    "    port=int(3306),\n",
    "    user=\"root\",\n",
    "    passwd=\"Ram@77793\",\n",
    "#     db=\"project1\",\n",
    "    charset='utf8mb4')"
   ]
  },
  {
   "cell_type": "code",
   "execution_count": 4,
   "metadata": {
    "scrolled": true
   },
   "outputs": [
    {
     "name": "stdout",
     "output_type": "stream",
     "text": [
      "<pymysql.connections.Connection object at 0x0000029AE58ADE10>\n"
     ]
    }
   ],
   "source": [
    "print(conn)"
   ]
  },
  {
   "cell_type": "code",
   "execution_count": 5,
   "metadata": {},
   "outputs": [],
   "source": [
    "my_cursor=conn.cursor()"
   ]
  },
  {
   "cell_type": "code",
   "execution_count": 6,
   "metadata": {},
   "outputs": [
    {
     "data": {
      "text/plain": [
       "11"
      ]
     },
     "execution_count": 6,
     "metadata": {},
     "output_type": "execute_result"
    }
   ],
   "source": [
    "my_cursor.execute(\"SHOW DATABASES\")"
   ]
  },
  {
   "cell_type": "code",
   "execution_count": 7,
   "metadata": {
    "scrolled": true
   },
   "outputs": [
    {
     "name": "stdout",
     "output_type": "stream",
     "text": [
      "('abc',)\n",
      "('information_schema',)\n",
      "('john',)\n",
      "('major',)\n",
      "('mini',)\n",
      "('mysql',)\n",
      "('performance_schema',)\n",
      "('project',)\n",
      "('project1',)\n",
      "('ram',)\n",
      "('sys',)\n"
     ]
    }
   ],
   "source": [
    "for i in my_cursor:\n",
    "    print(i)"
   ]
  },
  {
   "cell_type": "code",
   "execution_count": 8,
   "metadata": {},
   "outputs": [
    {
     "data": {
      "text/plain": [
       "0"
      ]
     },
     "execution_count": 8,
     "metadata": {},
     "output_type": "execute_result"
    }
   ],
   "source": [
    "my_cursor.execute(\"USE PROJECT1\")"
   ]
  },
  {
   "cell_type": "code",
   "execution_count": 9,
   "metadata": {},
   "outputs": [
    {
     "data": {
      "text/plain": [
       "4"
      ]
     },
     "execution_count": 9,
     "metadata": {},
     "output_type": "execute_result"
    }
   ],
   "source": [
    "my_cursor.execute(\"SHOW TABLES\")"
   ]
  },
  {
   "cell_type": "code",
   "execution_count": 10,
   "metadata": {
    "scrolled": false
   },
   "outputs": [
    {
     "name": "stdout",
     "output_type": "stream",
     "text": [
      "('bills',)\n",
      "('items',)\n",
      "('login',)\n",
      "('transaction',)\n"
     ]
    }
   ],
   "source": [
    "for i in my_cursor:\n",
    "    print(i)"
   ]
  },
  {
   "cell_type": "code",
   "execution_count": 11,
   "metadata": {},
   "outputs": [],
   "source": [
    "def clear():  \n",
    "    for i in range(2):\n",
    "        print()"
   ]
  },
  {
   "cell_type": "code",
   "execution_count": 12,
   "metadata": {},
   "outputs": [],
   "source": [
    "def login():\n",
    "    while True:\n",
    "        clear()\n",
    "        uname=input('enter your id:')\n",
    "        upass=input('enter your password')\n",
    "        my_cursor.execute('select *from login where name=\"{}\"and pwd=\"{}\"'.format(uname,upass)) #  it will take values according to format.\n",
    "        my_cursor.fetchall()\n",
    "        rows=my_cursor.rowcount\n",
    "        if rows!=1:\n",
    "            print('invalid login details....try again')\n",
    "        else:\n",
    "            print('you have logged in successfully...')\n",
    "            print('\\n\\n')\n",
    "            print('Press any key to continue.....')\n",
    "            break"
   ]
  },
  {
   "cell_type": "code",
   "execution_count": 14,
   "metadata": {},
   "outputs": [],
   "source": [
    "def last_bill_no():\n",
    "    my_cursor.execute('select max(bill_id) from bills')\n",
    "    record = my_cursor.fetchone()\n",
    "    return record"
   ]
  },
  {
   "cell_type": "code",
   "execution_count": 15,
   "metadata": {},
   "outputs": [],
   "source": [
    "def find_item(no):\n",
    "    my_cursor.execute('select * from items where id ={}'.format(no))\n",
    "    record = my_cursor.fetchone()\n",
    "    return record"
   ]
  },
  {
   "cell_type": "code",
   "execution_count": 17,
   "metadata": {},
   "outputs": [],
   "source": [
    "def add_item():\n",
    "    clear()\n",
    "    print('Add New Item - Screen')\n",
    "    print('-'*100)\n",
    "    item_name = input('Enter new Item Name :')  \n",
    "    item_price = input('Enter Item Price :')\n",
    "    sql = 'select * from items where item_name like \"%{}%\"'.format(item_name)\n",
    "    my_cursor.execute(sql)\n",
    "    record=my_cursor.fetchone()\n",
    "    if record==None:\n",
    "        sql = 'insert into items(item_name,price) values(\"{}\",{});'.format(item_name,item_price)\n",
    "        my_cursor.execute(sql)\n",
    "        print('\\n\\nNew Item added successfully.....\\nPress any key to continue....')\n",
    "    else:\n",
    "        print('\\n\\nItem Name already Exist.....\\nPress any key to continue....')\n",
    "    wait= input()  "
   ]
  },
  {
   "cell_type": "code",
   "execution_count": 18,
   "metadata": {},
   "outputs": [],
   "source": [
    "#   function name       : modify_item\n",
    "#   purpose             : change item details in items table\n",
    "def modify_item():\n",
    "    clear() \n",
    "    print('Modify Item Details -')\n",
    "    print('-'*100)\n",
    "    item_id = input('Enter Item ID :')\n",
    "    item_name = input('Enter new Item Name :')\n",
    "    item_price = input('Enter Item Price :')\n",
    "    sql = 'update items set item_name = \"{}\", price ={} where id={}'.format(item_name,item_price,item_id)\n",
    "    my_cursor.execute(sql)\n",
    "    print('\\n\\nRecord Updated Successfully............')\n",
    "    wait = input()"
   ]
  },
  {
   "cell_type": "code",
   "execution_count": 19,
   "metadata": {},
   "outputs": [],
   "source": [
    "#   function name           : item_list\n",
    "#   purpose                 : To display all the items in items tables\n",
    "def item_list():\n",
    "    clear()\n",
    "    sql=\"select * from items\"\n",
    "    my_cursor.execute(sql)\n",
    "    records = my_cursor.fetchall()\n",
    "    for row in records:\n",
    "        print(row)\n",
    "    print('\\nPress any key to continue.....')\n",
    "    wait=input()"
   ]
  },
  {
   "cell_type": "code",
   "execution_count": 20,
   "metadata": {},
   "outputs": [],
   "source": [
    "#   function name       : billing\n",
    "#   purpose             : To generate bills \n",
    "def billing():\n",
    "    clear()\n",
    "    items =[]\n",
    "    bill_no = last_bill_no()\n",
    "    if bill_no[0]==None:\n",
    "        bill_no =1\n",
    "    else:\n",
    "        bill_no = bill_no[0]+1 \n",
    "\n",
    "    name = input('Enter customer Name :')\n",
    "    phone = input('Enter Phone No :')\n",
    "    today = date.today()\n",
    "    while True:\n",
    "        no = int(input('Enter item No (0 to stop) :'))\n",
    "        if no <=0:\n",
    "            break\n",
    "        else:\n",
    "            item = find_item(no)\n",
    "            if item==None:\n",
    "                print('Item Not found  ')\n",
    "            else:\n",
    "                qty = int(input('Enter Item Qty :'))\n",
    "                item = list(item)\n",
    "                item.append(qty)\n",
    "                items.append(item)\n",
    "\n",
    "    clear()\n",
    "    print('                      Green Valley Supermarket              ')\n",
    "    print('                           Retail Invoice                   ')\n",
    "    print('                     Phone: 9939928284, Email: greenvalley@supermarket.com ')\n",
    "    print('Bill No :{}                           Date :{}'.format(bill_no,today))\n",
    "    print('-'*100)\n",
    "    print('Customer Name :{}                     Phone No :{}'.format(name,phone))\n",
    "    print('-'*100)\n",
    "    print('Item Id        Item Name                Price            Qty         Amount ')\n",
    "    print('-'*100)\n",
    "    total =0\n",
    "    for item in items:\n",
    "        print('{:<10d} {:25s} {:.2f} {:>10d}               {:>.2f} \\\n",
    "            '.format(item[0],item[1],item[2],item[3],item[2]*item[3]))\n",
    "        total = total +item[2]*item[3]\n",
    "    print('-'*100)\n",
    "    print('Total Payable amount : {}'.format(total))\n",
    "    print('\\nPress any key to continue........')\n",
    "    #insert data into tables\n",
    "    sql ='insert into bills(name,phone,bill_date) values(\"{}\",\"{}\",\"{}\");'.format(name,phone,today)\n",
    "    my_cursor.execute(sql)    \n",
    "    for item in items:\n",
    "        sql='insert into transaction(item_id,qty,bill_id) values({},{},{});'.format(item[0],item[3],bill_no)\n",
    "        my_cursor.execute(sql)\n",
    "    wait = input()"
   ]
  },
  {
   "cell_type": "code",
   "execution_count": 21,
   "metadata": {},
   "outputs": [],
   "source": [
    "#   function      : Date_wise_sell\n",
    "#   purpose       : Create a report on date wise sell or sell between two dates \n",
    "def date_wise_sell():\n",
    "    clear()\n",
    "    print('Sell Between Two Dates -- Screen')\n",
    "    print('-'*100)\n",
    "    start_date = input('Enter start Date (yyyy-mm-dd) :')\n",
    "    end_date   = input('Enter End Date (yyyy-mm-dd) :')\n",
    "    sql = 'select * from bills where bill_date between \"{}\" and \"{}\"'.format(start_date,end_date)\n",
    "    my_cursor.execute(sql)\n",
    "    records = my_cursor.fetchall()\n",
    "    clear()\n",
    "    print('Bill No       Customer Name         Phone No         Bill Date')\n",
    "    print('-'*100)\n",
    "    for row in records:\n",
    "        print('{:10d} {:30s} {:20s} {}'.format(row[0],row[1],row[2],row[3]))\n",
    "    print('-'*100)\n",
    "    print('\\n\\nPress any key to continue....')\n",
    "    wait= input()"
   ]
  },
  {
   "cell_type": "code",
   "execution_count": 22,
   "metadata": {},
   "outputs": [],
   "source": [
    "# function name        : bill information\n",
    "# purpose               : display details of any bill\n",
    "def bill_information():\n",
    "    clear()\n",
    "    bill_no = input('Enter Bill Number :')\n",
    "    sql = 'select b.bill_id,b.name,b.phone,b.bill_date,t.item_id,t.qty,i.item_name,i.price from bills b,transaction t,items i \\\n",
    "           where b.bill_id = t.bill_id AND t.item_id= i.id AND \\\n",
    "           b.bill_id ={};'.format(bill_no)\n",
    "    my_cursor.execute(sql) \n",
    "    records = my_cursor.fetchall()\n",
    "    n = my_cursor.rowcount\n",
    "    clear()\n",
    "    print(\"Bill No :\",bill_no)\n",
    "    print('-'*100)\n",
    "    if n<=0:\n",
    "        print('Bill number {} does not exists'.format(bill_no))\n",
    "    else:\n",
    "        print('Customer Name : {}  Phone No :{}'.format(records[0][1],records[0][2]))\n",
    "        print('Bill Date : {}'.format(records[0][3]))\n",
    "        print('-'*100)\n",
    "        print('{:10s} {:30s} {:20s} {:10s} {:30s}'.format('ID','Item Name','Qty','Price','Amount'))\n",
    "        print('-'*100)\n",
    "        for row in records:\n",
    "            print('{:<10d} {:30s} {:<20d} {:.2f} {:>.2f}'.format(row[4],row[6],row[5],row[7],row[5]*row[7]))\n",
    "        print('-'*100)\n",
    "    print('\\nPress any key to continue....')\n",
    "    wait = input()   "
   ]
  },
  {
   "cell_type": "code",
   "execution_count": 23,
   "metadata": {},
   "outputs": [],
   "source": [
    "#  function name    : amount_collected\n",
    "#  purpose          : Function to display amount collected between two dates\n",
    "def amount_collected():\n",
    "    clear()\n",
    "    start_date = input('Enter start Date (yyyy-mm-dd) :')\n",
    "    end_date   = input('Enter End   Date (yyyy-mm-dd) :')\n",
    "    clear()\n",
    "    print('Amount collected between: {} and {}'.format(start_date,end_date))\n",
    "    print('-'*100)\n",
    "    sql = 'select sum(t.qty*i.price) from bills b,transaction t,items i \\\n",
    "           where b.bill_date between \"{}\" AND \"{}\" AND b.bill_id = t.bill_id AND \\\n",
    "           t.item_id = i.id;'.format(start_date,end_date)\n",
    "    my_cursor.execute(sql)\n",
    "    result = my_cursor.fetchone()\n",
    "    print(result)\n",
    "    print('\\nPress any key to continue.....')\n",
    "    wait= input()"
   ]
  },
  {
   "cell_type": "code",
   "execution_count": 24,
   "metadata": {},
   "outputs": [],
   "source": [
    "def search_item():\n",
    "    clear()\n",
    "    item_name =input('Enter Item Name :')\n",
    "    sql ='select * from items where item_name like \"%{}%\";'.format(item_name)\n",
    "    my_cursor.execute(sql)\n",
    "    records = my_cursor.fetchall()\n",
    "    clear()\n",
    "    print('Item Names start with :',item_name)\n",
    "    print('-'*100)\n",
    "    print('{:10s} {:30s} {:20s}'.format('Item ID','Item Name','Item Price'))\n",
    "    print('-'*100)\n",
    "    for row in records:\n",
    "        print('{:<10d} {:30s} {:.2f}'.format(row[0],row[1],row[2]))\n",
    "    print('-'*100)\n",
    "    print('\\nPress any key to continue....')"
   ]
  },
  {
   "cell_type": "code",
   "execution_count": 25,
   "metadata": {},
   "outputs": [],
   "source": [
    "def search_customer():\n",
    "    clear()\n",
    "    cust_name =input('Enter customer Name :')\n",
    "    sql ='select * from bills where name like \"%{}%\";'.format(cust_name)\n",
    "    my_cursor.execute(sql)\n",
    "    records = my_cursor.fetchall()\n",
    "    clear()\n",
    "    print('Customer Names started with :',cust_name)\n",
    "    print('-'*100)\n",
    "    print('{:10s} {:30s} {:20s} {:20s}'.format('Bill No','Customer Name','Phone No','Bill Date'))\n",
    "    print('-'*100)\n",
    "    for row in records:\n",
    "        print('{:<10d} {:30s} {:20s} {:20s}'.format(row[0],row[1],row[2],str(row[3])))\n",
    "    print('-'*100)\n",
    "    print('\\nPress any key to continue....')\n",
    "    wait= input()"
   ]
  },
  {
   "cell_type": "code",
   "execution_count": 26,
   "metadata": {},
   "outputs": [],
   "source": [
    "# function name      : search_bill\n",
    "# purpose            : function to find out bill information\n",
    "def search_bill():\n",
    "    clear()\n",
    "    bill_no = input('Enter Bill Number :')\n",
    "    sql = 'select b.bill_id,b.name,b.phone,b.bill_date,t.item_id,t.qty,i.item_name,i.price from bills b,transaction t,items i \\\n",
    "           where b.bill_id = t.bill_id AND t.item_id= i.id AND \\\n",
    "           b.bill_id ={};'.format(bill_no)\n",
    "    my_cursor.execute(sql) \n",
    "    records = my_cursor.fetchall()\n",
    "    n = my_cursor.rowcount\n",
    "    clear()\n",
    "    print(\"Bill No :\",bill_no)\n",
    "    print('-'*100)\n",
    "    if n<=0:\n",
    "        print('Bill number {} does not exists'.format(bill_no))\n",
    "    else:\n",
    "        print('Customer Name : {}  Phone No :{}'.format(records[0][1],records[0][2]))\n",
    "        print('Bill Date : {}'.format(records[0][3]))\n",
    "        print('-'*100)\n",
    "        print('{:10s} {:30s} {:20s} {:10s} {:30s}'.format('ID','Item Name','Qty','Price','Amount'))\n",
    "        print('-'*100)\n",
    "        for row in records:\n",
    "            print('{:<10d} {:30s} {:<20d} {:.2f} {:>.2f}'.format(row[4],row[6],row[5],row[7],row[5]*row[7]))\n",
    "        print('-'*100)\n",
    "    print('\\nPress any key to continue....')"
   ]
  },
  {
   "cell_type": "code",
   "execution_count": 27,
   "metadata": {},
   "outputs": [],
   "source": [
    "#  function name    : search_menu\n",
    "#  purpose          : Display search menu on the screen\n",
    "def search_menu():\n",
    "    while True:\n",
    "        clear()\n",
    "        print('      S E A R C H    M E N U ')\n",
    "        print('-'*100)\n",
    "        print('1.   Item Name')\n",
    "        print('2.   Customer information')\n",
    "        print('3.   Bill information')\n",
    "        print('4.   Back to main Menu')\n",
    "        choice = int(input('\\n\\nEnter your choice (1..4): '))\n",
    "        if choice==1:\n",
    "            search_item()\n",
    "        if choice==2:\n",
    "            search_customer()\n",
    "        if choice==3:\n",
    "            search_bill()\n",
    "        if choice==4:\n",
    "            break"
   ]
  },
  {
   "cell_type": "code",
   "execution_count": 28,
   "metadata": {},
   "outputs": [],
   "source": [
    "#  function name    : report_menu\n",
    "#  purpose          : Display report menu on the screen\n",
    "def report_menu():\n",
    "    while True:\n",
    "        clear()\n",
    "        print('   R E P O R T   M E N U ')\n",
    "        print('-'*100)\n",
    "        print('1.   Item List')\n",
    "        print('2.   Sell Between Dates')\n",
    "        print('3.   Bill information')\n",
    "        print('4.   Amount collected')\n",
    "        print('5.   Back to main Menu')\n",
    "        choice = int(input('\\n\\nEnter your choice (1..5): '))\n",
    "        if choice==1:\n",
    "            item_list()\n",
    "        if choice==2:\n",
    "            date_wise_sell()\n",
    "        if choice==3:\n",
    "            bill_information()\n",
    "        if choice==4:\n",
    "            amount_collected()\n",
    "        if choice==5:\n",
    "            break"
   ]
  },
  {
   "cell_type": "code",
   "execution_count": 29,
   "metadata": {},
   "outputs": [],
   "source": [
    "def main_menu():\n",
    "    while True:\n",
    "        #clear()\n",
    "        print('      M A I N   M E N U')\n",
    "        print('-'*100)\n",
    "        print('1.   Add New Item')\n",
    "        print('2.   Modify Existing Item')\n",
    "        print('3.   Billing')\n",
    "        print('4.   Search Menu')\n",
    "        print('5.   Report Menu')\n",
    "        print('6.   Exit')\n",
    "        choice = int(input('\\n\\nEnter your choice (1..6): '))\n",
    "        if choice==1:\n",
    "            add_item()\n",
    "        if choice==2:\n",
    "            modify_item()\n",
    "        if choice==3:\n",
    "            billing()\n",
    "        if choice==4:\n",
    "            search_menu()\n",
    "        if choice==5:\n",
    "            report_menu()\n",
    "        if choice==6:\n",
    "            break"
   ]
  },
  {
   "cell_type": "code",
   "execution_count": 30,
   "metadata": {
    "scrolled": true
   },
   "outputs": [
    {
     "name": "stdout",
     "output_type": "stream",
     "text": [
      "\n",
      "\n",
      "\n",
      "\n",
      "enter your id:Ram\n",
      "enter your password1234\n",
      "you have logged in successfully...\n",
      "\n",
      "\n",
      "\n",
      "Press any key to continue.....\n",
      "      M A I N   M E N U\n",
      "----------------------------------------------------------------------------------------------------\n",
      "1.   Add New Item\n",
      "2.   Modify Existing Item\n",
      "3.   Billing\n",
      "4.   Search Menu\n",
      "5.   Report Menu\n",
      "6.   Exit\n",
      "\n",
      "\n",
      "Enter your choice (1..6): 3\n",
      "\n",
      "\n",
      "Enter customer Name :Ram\n",
      "Enter Phone No :9533\n",
      "Enter item No (0 to stop) :1\n",
      "Enter Item Qty :10\n",
      "Enter item No (0 to stop) :2\n",
      "Enter Item Qty :12\n",
      "Enter item No (0 to stop) :0\n",
      "\n",
      "\n",
      "                      Green Valley Supermarket              \n",
      "                           Retail Invoice                   \n",
      "                     Phone: 9939928284, Email: greenvalley@supermarket.com \n",
      "Bill No :1                           Date :2023-01-03\n",
      "----------------------------------------------------------------------------------------------------\n",
      "Customer Name :Ram                     Phone No :9533\n",
      "----------------------------------------------------------------------------------------------------\n",
      "Item Id        Item Name                Price            Qty         Amount \n",
      "----------------------------------------------------------------------------------------------------\n",
      "1          fan                       1250.00         10               12500.00             \n",
      "2          Tube-light                250.00         12               3000.00             \n",
      "----------------------------------------------------------------------------------------------------\n",
      "Total Payable amount : 15500.0\n",
      "\n",
      "Press any key to continue........\n",
      "\n",
      "      M A I N   M E N U\n",
      "----------------------------------------------------------------------------------------------------\n",
      "1.   Add New Item\n",
      "2.   Modify Existing Item\n",
      "3.   Billing\n",
      "4.   Search Menu\n",
      "5.   Report Menu\n",
      "6.   Exit\n",
      "\n",
      "\n",
      "Enter your choice (1..6): 6\n"
     ]
    }
   ],
   "source": [
    "if __name__==\"__main__\":\n",
    "    clear()\n",
    "    login()\n",
    "    main_menu()"
   ]
  },
  {
   "cell_type": "code",
   "execution_count": null,
   "metadata": {},
   "outputs": [],
   "source": []
  }
 ],
 "metadata": {
  "kernelspec": {
   "display_name": "Python 3",
   "language": "python",
   "name": "python3"
  },
  "language_info": {
   "codemirror_mode": {
    "name": "ipython",
    "version": 3
   },
   "file_extension": ".py",
   "mimetype": "text/x-python",
   "name": "python",
   "nbconvert_exporter": "python",
   "pygments_lexer": "ipython3",
   "version": "3.7.3"
  }
 },
 "nbformat": 4,
 "nbformat_minor": 2
}
